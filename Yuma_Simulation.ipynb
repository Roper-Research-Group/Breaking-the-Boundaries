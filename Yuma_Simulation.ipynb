{
 "cells": [
  {
   "cell_type": "code",
   "execution_count": 1,
   "id": "initial_id",
   "metadata": {
    "ExecuteTime": {
     "end_time": "2024-09-13T17:14:08.052679Z",
     "start_time": "2024-09-13T17:14:00.144949Z"
    },
    "collapsed": true,
    "execution": {
     "iopub.execute_input": "2025-01-23T16:32:43.113964Z",
     "iopub.status.busy": "2025-01-23T16:32:43.112994Z",
     "iopub.status.idle": "2025-01-23T16:32:46.322541Z",
     "shell.execute_reply": "2025-01-23T16:32:46.320522Z"
    },
    "papermill": {
     "duration": 3.219547,
     "end_time": "2025-01-23T16:32:46.326582",
     "exception": false,
     "start_time": "2025-01-23T16:32:43.107035",
     "status": "completed"
    },
    "tags": []
   },
   "outputs": [],
   "source": [
    "## Needed libraries\n",
    "\n",
    "import pandas as pd\n",
    "import numpy as np\n",
    "import time, datetime\n",
    "from ipywidgets import IntProgress\n",
    "from IPython.display import display\n",
    "import matplotlib.pyplot as plt\n",
    "import os\n",
    "import pandas as pd\n",
    "import datetime\n",
    "\n",
    "from cfd import CFDModel\n",
    "from summit.utils.dataset import DataSet\n",
    "\n"
   ]
  },
  {
   "cell_type": "code",
   "execution_count": 2,
   "id": "c1452769ec42355a",
   "metadata": {
    "ExecuteTime": {
     "end_time": "2024-09-13T17:14:08.083831Z",
     "start_time": "2024-09-13T17:14:08.054744Z"
    },
    "execution": {
     "iopub.execute_input": "2025-01-23T16:32:46.336572Z",
     "iopub.status.busy": "2025-01-23T16:32:46.335572Z",
     "iopub.status.idle": "2025-01-23T16:32:46.353962Z",
     "shell.execute_reply": "2025-01-23T16:32:46.351778Z"
    },
    "papermill": {
     "duration": 0.027412,
     "end_time": "2025-01-23T16:32:46.358959",
     "exception": false,
     "start_time": "2025-01-23T16:32:46.331547",
     "status": "completed"
    },
    "tags": []
   },
   "outputs": [],
   "source": [
    "## Required Classes and Functions\n",
    "\n",
    "class TimeSeriesData:\n",
    "    _data = [tuple]\n",
    "\n",
    "    def __init__(self, date: datetime.date):\n",
    "        self._date = date\n",
    "        self._data = []\n",
    "        self._last_idx = 0\n",
    "\n",
    "    def append(self, time, value):\n",
    "        # try:\n",
    "        if isinstance(time, pd.Timestamp):\n",
    "            self._data.append((time.to_pydatetime(), value))\n",
    "        else:\n",
    "            self._data.append((datetime.datetime.combine(self._date, time), value))\n",
    "        # except TypeError:\n",
    "        #     pass\n",
    "        # except Exception as ex:\n",
    "        #     print(ex)\n",
    "\n",
    "    @property\n",
    "    def data(self):\n",
    "        return self._data\n",
    "\n",
    "    def __len__(self):\n",
    "        return len(self._data)\n",
    "\n",
    "    def get_value(self, timestamp: datetime.datetime):\n",
    "        surrounding_values = [None, self._data[0]]\n",
    "        for i in range(self._last_idx, len(self._data)):\n",
    "            if self._data[i][0] == timestamp:\n",
    "                return self._data[i][1]\n",
    "            if self._data[i][0] < timestamp and surrounding_values[0] is None:\n",
    "                surrounding_values[0] = self._data[i]\n",
    "                surrounding_values[1] = None\n",
    "            if self._data[i][0] > timestamp:\n",
    "                surrounding_values[1] = self._data[i]\n",
    "                if surrounding_values[1] is not None:\n",
    "                    self._last_idx = i\n",
    "                    break\n",
    "        if surrounding_values[0] is None:\n",
    "            return surrounding_values[1][1]\n",
    "        if surrounding_values[1] is None:\n",
    "            return surrounding_values[0][1]\n",
    "\n",
    "        dt1 = (timestamp - surrounding_values[0][0]).total_seconds()\n",
    "        dt2 = (surrounding_values[1][0] - timestamp).total_seconds()\n",
    "        dv = surrounding_values[1][1] - surrounding_values[0][1]\n",
    "\n",
    "        return ((dt1 / (dt1 + dt2)) * dv) + surrounding_values[0][1]"
   ]
  },
  {
   "cell_type": "code",
   "execution_count": 3,
   "id": "8610b3e9acc1c1c3",
   "metadata": {
    "ExecuteTime": {
     "end_time": "2024-09-13T17:15:05.050782Z",
     "start_time": "2024-09-13T17:14:08.085876Z"
    },
    "execution": {
     "iopub.execute_input": "2025-01-23T16:32:46.364932Z",
     "iopub.status.busy": "2025-01-23T16:32:46.364932Z",
     "iopub.status.idle": "2025-01-23T16:33:40.934564Z",
     "shell.execute_reply": "2025-01-23T16:33:40.933564Z"
    },
    "papermill": {
     "duration": 54.573629,
     "end_time": "2025-01-23T16:33:40.935566",
     "exception": false,
     "start_time": "2025-01-23T16:32:46.361937",
     "status": "completed"
    },
    "tags": []
   },
   "outputs": [
    {
     "data": {
      "application/vnd.jupyter.widget-view+json": {
       "model_id": "64bb64856cf14543bff2e7d9b9e8a126",
       "version_major": 2,
       "version_minor": 0
      },
      "text/plain": [
       "IntProgress(value=0, max=1250)"
      ]
     },
     "metadata": {},
     "output_type": "display_data"
    },
    {
     "name": "stdout",
     "output_type": "stream",
     "text": [
      "    0.08% processed. Approximately 0 minutes and 2 seconds remaining.\n",
      "\tPredicted concentration: (0.00030732859643871845, 0.001333166832047394) mg/mL\n"
     ]
    },
    {
     "name": "stdout",
     "output_type": "stream",
     "text": [
      "    8.08% processed. Approximately 0 minutes and 51 seconds remaining.\n",
      "\tPredicted concentration: (156.855349123851, 0.5302609484022123) mg/mL\n"
     ]
    },
    {
     "name": "stdout",
     "output_type": "stream",
     "text": [
      "   16.08% processed. Approximately 0 minutes and 44 seconds remaining.\n",
      "\tPredicted concentration: (157.05039297717283, 52.05294881187427) mg/mL\n"
     ]
    },
    {
     "name": "stdout",
     "output_type": "stream",
     "text": [
      "   24.08% processed. Approximately 0 minutes and 40 seconds remaining.\n",
      "\tPredicted concentration: (157.05039297717283, 52.05294881187427) mg/mL\n"
     ]
    },
    {
     "name": "stdout",
     "output_type": "stream",
     "text": [
      "   32.08% processed. Approximately 0 minutes and 36 seconds remaining.\n",
      "\tPredicted concentration: (157.05039297717283, 52.05294881187427) mg/mL\n"
     ]
    },
    {
     "name": "stdout",
     "output_type": "stream",
     "text": [
      "   40.08% processed. Approximately 0 minutes and 32 seconds remaining.\n",
      "\tPredicted concentration: (157.05039297717283, 52.05294881187427) mg/mL\n"
     ]
    },
    {
     "name": "stdout",
     "output_type": "stream",
     "text": [
      "   48.08% processed. Approximately 0 minutes and 27 seconds remaining.\n",
      "\tPredicted concentration: (157.05039297717283, 52.05294881187427) mg/mL\n"
     ]
    },
    {
     "name": "stdout",
     "output_type": "stream",
     "text": [
      "   56.08% processed. Approximately 0 minutes and 23 seconds remaining.\n",
      "\tPredicted concentration: (157.05039297717283, 52.05294881187427) mg/mL\n"
     ]
    },
    {
     "name": "stdout",
     "output_type": "stream",
     "text": [
      "   64.08% processed. Approximately 0 minutes and 19 seconds remaining.\n",
      "\tPredicted concentration: (157.05039297717283, 52.05294881187427) mg/mL\n"
     ]
    },
    {
     "name": "stdout",
     "output_type": "stream",
     "text": [
      "   72.08% processed. Approximately 0 minutes and 14 seconds remaining.\n",
      "\tPredicted concentration: (157.05039297717283, 52.05294881187427) mg/mL\n"
     ]
    },
    {
     "name": "stdout",
     "output_type": "stream",
     "text": [
      "   80.08% processed. Approximately 0 minutes and 10 seconds remaining.\n",
      "\tPredicted concentration: (157.05039297717283, 52.05294881187427) mg/mL\n"
     ]
    },
    {
     "name": "stdout",
     "output_type": "stream",
     "text": [
      "   88.08% processed. Approximately 0 minutes and 6 seconds remaining.\n",
      "\tPredicted concentration: (157.05039297717283, 52.05294881187427) mg/mL\n"
     ]
    },
    {
     "name": "stdout",
     "output_type": "stream",
     "text": [
      "   96.08% processed. Approximately 0 minutes and 2 seconds remaining.\n",
      "\tPredicted concentration: (157.05039297717283, 52.05294881187427) mg/mL\n"
     ]
    },
    {
     "name": "stdout",
     "output_type": "stream",
     "text": [
      "52.05294881187427\n"
     ]
    },
    {
     "data": {
      "image/png": "[encoded data removed]",
      "text/plain": [
       "<Figure size 2400x600 with 1 Axes>"
      ]
     },
     "metadata": {},
     "output_type": "display_data"
    },
    {
     "name": "stdout",
     "output_type": "stream",
     "text": [
      "Done!\n"
     ]
    }
   ],
   "source": [
    "file_path = 'Digital_Twin_Dataset/Data/YumaDigi_Data.csv'\n",
    "raw_data = DataSet.read_csv(file_path)\n",
    "experiment_date = datetime.date(2022, 10, 3)\n",
    "\n",
    "# Number of repetitions\n",
    "n_repeats = 1250\n",
    "\n",
    "# Time step increment in seconds\n",
    "time_increment = 1  # 1 second\n",
    "\n",
    "# Define the initial base time\n",
    "base_time = datetime.datetime.strptime('2:17:52 PM', '%I:%M:%S %p').time()\n",
    "\n",
    "# Function to create a list of datetime.time objects\n",
    "def generate_time_series(start_time, n, increment):\n",
    "    start_dt = datetime.datetime.combine(datetime.date(1, 1, 1), start_time)\n",
    "    times = [start_dt + datetime.timedelta(seconds=i * increment) for i in range(n)]\n",
    "    return [t.time() for t in times]\n",
    "\n",
    "# Create a list of times for the current row\n",
    "times = generate_time_series(base_time, n_repeats, time_increment)\n",
    "\n",
    "# Iterate over each row in the input dataset, skipping the first row\n",
    "for index, row in raw_data.iterrows():\n",
    "        # Skip rows where the 'Output_Conc' column is already filled\n",
    "    if not pd.isna(row['Output_Conc', 'DATA']):\n",
    "        continue  # Skip the first row\n",
    "\n",
    "        \n",
    "    # Create DataFrame for the current row\n",
    "    excel_data = pd.DataFrame({\n",
    "        'acrylate time': times,\n",
    "        'acrylate flow': [row['Acrylate', 'DATA']] * n_repeats,\n",
    "        'fluoro time': times,\n",
    "        'fluoro flow': [row['Fluoro', 'DATA']] * n_repeats,\n",
    "        'cyclo time': times,\n",
    "        'cyclo flow': [row['Cyclo', 'DATA']] * n_repeats,\n",
    "        'temperature time': times,\n",
    "        'temperature': [row['Temperature', 'DATA']] * n_repeats\n",
    "    })\n",
    "    \n",
    "    ## Remove all negative flow rates\n",
    "    \n",
    "    acrylate_flowrate_conversion_function = lambda x: 0.0048 * x - 0.9793\n",
    "    fluoro_flowrate_conversion_function = lambda x: 0.0038 * x - 0.7274\n",
    "    cyclo_flowrate_conversion_function = lambda x: 0.0041 * x - 1.0507\n",
    "    \n",
    "    acrylate_flowrate_df = excel_data['acrylate flow'].apply(lambda x: x if x > 0 else 0)\n",
    "    fluoro_flowrate_df = excel_data['fluoro flow'].apply(lambda x: x if x > 0 else 0)\n",
    "    cyclo_flowrate_df = excel_data['cyclo flow'].apply(lambda x: x if x > 0 else 0)\n",
    "    \n",
    "    ## Temperature Data Preprocessing Step 1\n",
    "    temperature_raw_timeseries_data = TimeSeriesData(experiment_date)    \n",
    "    for i in range(len(excel_data['temperature'])):\n",
    "        timestamp = excel_data['temperature time'][i]\n",
    "        value = excel_data['temperature'][i]\n",
    "        if timestamp != timestamp:\n",
    "            continue\n",
    "        if value != value:\n",
    "            continue\n",
    "        temperature_raw_timeseries_data.append(timestamp, value)\n",
    "        \n",
    "    \n",
    "    ## Flowrate Data Preprocessing Step 1\n",
    "    acrylate_timeseries_data = TimeSeriesData(experiment_date)\n",
    "    fluoro_timeseries_data = TimeSeriesData(experiment_date)\n",
    "    cyclo_timeseries_data = TimeSeriesData(experiment_date)\n",
    "    \n",
    "    for i in range(len(acrylate_flowrate_df)):\n",
    "        timestamp = excel_data['acrylate time'][i]\n",
    "        value = acrylate_flowrate_df[i]\n",
    "        if timestamp != timestamp or value != value:\n",
    "            continue\n",
    "        acrylate_timeseries_data.append(timestamp, value)\n",
    "    \n",
    "    for i in range(len(fluoro_flowrate_df)):\n",
    "        timestamp = excel_data['fluoro time'][i]\n",
    "        value = fluoro_flowrate_df[i]\n",
    "        if timestamp != timestamp or value != value:\n",
    "            continue\n",
    "        fluoro_timeseries_data.append(timestamp, value)\n",
    "    \n",
    "    for i in range(len(cyclo_flowrate_df)):\n",
    "        timestamp = excel_data['cyclo time'][i]\n",
    "        value = cyclo_flowrate_df[i]\n",
    "        if timestamp != timestamp or value != value:\n",
    "            continue\n",
    "        cyclo_timeseries_data.append(timestamp, value)\n",
    "        \n",
    "        \n",
    "    ## Merging data into a single dataframe\n",
    "    \n",
    "    merged_data = []\n",
    "    \n",
    "    largest_series = None\n",
    "    \n",
    "    if len(acrylate_timeseries_data) > len(fluoro_timeseries_data) and len(acrylate_timeseries_data) > len(cyclo_timeseries_data):\n",
    "        largest_series = acrylate_timeseries_data\n",
    "    else:\n",
    "        if len(fluoro_timeseries_data) > len(cyclo_timeseries_data):\n",
    "            largest_series = fluoro_timeseries_data\n",
    "        else:\n",
    "            largest_series = cyclo_timeseries_data\n",
    "    \n",
    "    start = 0\n",
    "    max_count = len(largest_series)\n",
    "    \n",
    "    f = IntProgress(min=start, max=max_count)  # instantiate the bar\n",
    "    display(f)  # display the bar\n",
    "    \n",
    "    for i in range(start, max_count):\n",
    "        if largest_series == acrylate_timeseries_data:\n",
    "            dt, value = acrylate_timeseries_data.data[i]\n",
    "            acrylate_flow_value = value\n",
    "            fluoro_flow_value = fluoro_timeseries_data.get_value(dt)\n",
    "            cyclo_flow_value = cyclo_timeseries_data.get_value(dt)\n",
    "            temperature_value = temperature_raw_timeseries_data.get_value(dt)\n",
    "            merged_data.append((dt, acrylate_flow_value, fluoro_flow_value, cyclo_flow_value, temperature_value))\n",
    "            if i % 100 == 0:\n",
    "                f.value += 100\n",
    "        elif largest_series == fluoro_timeseries_data:\n",
    "            dt, value = fluoro_timeseries_data.data[i]\n",
    "            fluoro_flow_value = value\n",
    "            acrylate_flow_value = acrylate_timeseries_data.get_value(dt)\n",
    "            cyclo_flow_value = cyclo_timeseries_data.get_value(dt)\n",
    "            temperature_value = temperature_raw_timeseries_data.get_value(dt)\n",
    "            merged_data.append((dt, acrylate_flow_value, fluoro_flow_value, cyclo_flow_value, temperature_value))\n",
    "            if i % 100 == 0:\n",
    "                f.value += 100\n",
    "        else:\n",
    "            dt, value = cyclo_timeseries_data.data[i]\n",
    "            cyclo_flow_value = value\n",
    "            acrylate_flow_value = acrylate_timeseries_data.get_value(dt)\n",
    "            fluoro_flow_value = fluoro_timeseries_data.get_value(dt)\n",
    "            temperature_value = temperature_raw_timeseries_data.get_value(dt)\n",
    "            merged_data.append((dt, acrylate_flow_value, fluoro_flow_value, cyclo_flow_value, temperature_value))\n",
    "            if i % 100 == 0:\n",
    "                f.value += 100\n",
    "    \n",
    "    \n",
    "    merged_df = pd.DataFrame()\n",
    "    \n",
    "    merged_df['Time'] = [value[0] for value in merged_data]\n",
    "    merged_df['Acrylate'] = [value[1] for value in merged_data]\n",
    "    merged_df['Fluoro'] = [value[2] for value in merged_data]\n",
    "    merged_df['Cyclo'] = [value[3] for value in merged_data]\n",
    "    merged_df['Temperature'] = [value[4] for value in merged_data]\n",
    "    \n",
    "    ## Run the simulation\n",
    "    \n",
    "    starting_acrylate_concentration = 1200\n",
    "    starting_fluoro_concentration = 1000\n",
    "    starting_cyclo_concentration = 1250\n",
    "    \n",
    "    reactor_1 = CFDModel(\n",
    "        starting_acrylate_concentration,\n",
    "        starting_fluoro_concentration,\n",
    "        nx=600,\n",
    "        Volume=10e-6,\n",
    "        dt=0.005,\n",
    "        # AxialDispersion=0.0005\n",
    "    )\n",
    "    reactor_2 = CFDModel(\n",
    "        0,\n",
    "        starting_cyclo_concentration,\n",
    "        nx=600,\n",
    "        Volume=5e-6,\n",
    "        dt=0.005,\n",
    "        ArrheniusFactor=11.3,\n",
    "        ActivationEnergy=23681,\n",
    "        MolecularWeight=346.18, # Check the molecular weight of the product\n",
    "        # AxialDispersion=0.0005\n",
    "    )\n",
    "    np.seterr(all='raise')\n",
    "    \n",
    "    timestamps = merged_df['Time'].values\n",
    "    acrylate_flowrates = merged_df['Acrylate']\n",
    "    fluoro_flowrates = merged_df['Fluoro']\n",
    "    cyclo_flowrates = merged_df['Cyclo']\n",
    "    temperatures = merged_df['Temperature'].values\n",
    "    \n",
    "    number_of_samples = len(timestamps)\n",
    "    \n",
    "    reactor_predicted_output_concentrations = []\n",
    "    \n",
    "    try:\n",
    "        last_step = datetime.datetime.now()\n",
    "        last_timestamp = None\n",
    "        time_difference = None\n",
    "        # for i in range(71000):\n",
    "        #     reactor_predicted_output_concentrations.append(np.NAN)\n",
    "    \n",
    "        for i in range(0, number_of_samples):\n",
    "            timestamp = timestamps[i]\n",
    "            acrylate_flowrate = acrylate_flowrates[i] * 1.667 * 10 ** -8\n",
    "            fluoro_flowrate = fluoro_flowrates[i] * 1.667 * 10 ** -8\n",
    "            cyclo_flowrate = cyclo_flowrates[i] * 1.667 * 10 ** -8\n",
    "            temperature = temperatures[i]\n",
    "    \n",
    "            if last_timestamp is not None:\n",
    "                time_difference = float(timestamp - last_timestamp) / 1000000000\n",
    "            last_timestamp = timestamp\n",
    "    \n",
    "            reactor_1.set_temperature_in_degrees_celsius(temperature)\n",
    "            reactor_1.species_A_flowrate = acrylate_flowrate\n",
    "            reactor_1.species_B_flowrate = fluoro_flowrate\n",
    "    \n",
    "            reactor_1.update(dt=time_difference)\n",
    "    \n",
    "            reactor_2.set_temperature_in_degrees_celsius(25)\n",
    "            reactor_2.species_A_flowrate = reactor_1.combined_flowrate\n",
    "            reactor_2.species_B_flowrate = cyclo_flowrate\n",
    "            reactor_2.species_A_stock_concentration = reactor_1.default_product_concentration\n",
    "    \n",
    "            reactor_2.update(dt=time_difference)\n",
    "    \n",
    "            predicted_concentration = (reactor_1.product_concentration, reactor_2.product_concentration)\n",
    "    \n",
    "            # if predicted_concentration != predicted_concentration:\n",
    "            #     breakpoint()\n",
    "            reactor_predicted_output_concentrations.append(predicted_concentration)\n",
    "    \n",
    "            if i % 100 == 0:\n",
    "                time_delta = datetime.datetime.now() - last_step\n",
    "                last_step = datetime.datetime.now()\n",
    "                estimated_remaining_time = (number_of_samples - i) * (time_delta / 100)\n",
    "                minutes_remaining = estimated_remaining_time.total_seconds() // 60\n",
    "                seconds_remaining = estimated_remaining_time.total_seconds() % 60\n",
    "                if minutes_remaining == 1:\n",
    "                    print(\n",
    "                        f'{((i + 1) / number_of_samples) * 100:8.4}% processed. Approximately {int(minutes_remaining)} minute and {int(seconds_remaining)} seconds remaining.')\n",
    "                else:\n",
    "                    print(\n",
    "                        f'{((i + 1) / number_of_samples) * 100:8.4}% processed. Approximately {int(minutes_remaining)} minutes and {int(seconds_remaining)} seconds remaining.')\n",
    "                print(f'\\tPredicted concentration: {predicted_concentration} mg/mL')\n",
    "        \n",
    "        # Extract the second values from the last 10 tuples\n",
    "        last_10_step2_values = [concentration[1] for concentration in reactor_predicted_output_concentrations[-10:]]\n",
    "        \n",
    "        # Calculate the average of these values\n",
    "        avg_last_10_step2 = np.mean(last_10_step2_values)\n",
    "        print(avg_last_10_step2)\n",
    "        # Now, you can assign this average to the 'Output_Conc' column\n",
    "        raw_data.loc[index, ('Output_Conc', 'DATA')] = avg_last_10_step2\n",
    "        \n",
    "        merged_df['Step 1 Concentration'] = [value[0] for value in reactor_predicted_output_concentrations]\n",
    "        merged_df['Step 2 Concentration'] = [value[1] for value in reactor_predicted_output_concentrations]\n",
    "        \n",
    "        f = plt.figure()\n",
    "        f.set_figwidth(24)\n",
    "        f.set_figheight(6)\n",
    "        \n",
    "        plt.plot(merged_df['Step 1 Concentration'], label='Predicted Concentration step 1 (mg/mL)')\n",
    "        plt.plot(merged_df['Step 2 Concentration'], label='Predicted Concentration step 2 (mg/mL)')\n",
    "        plt.legend()\n",
    "        plt.show()\n",
    "        \n",
    "    except KeyboardInterrupt:\n",
    "        pass\n",
    "\n",
    "# Save the final DataFrame back to the CSV file\n",
    "raw_data.to_csv(file_path, header=True)\n",
    "\n",
    "print('Done!')"
   ]
  }
 ],
 "metadata": {
  "kernelspec": {
   "display_name": "Python 3",
   "language": "python",
   "name": "python3"
  },
  "language_info": {
   "codemirror_mode": {
    "name": "ipython",
    "version": 3
   },
   "file_extension": ".py",
   "mimetype": "text/x-python",
   "name": "python",
   "nbconvert_exporter": "python",
   "pygments_lexer": "ipython3",
   "version": "3.9.18"
  },
  "papermill": {
   "default_parameters": {},
   "duration": 60.939887,
   "end_time": "2025-01-23T16:33:41.489015",
   "environment_variables": {},
   "exception": null,
   "input_path": "Yuma_Simulation.ipynb",
   "output_path": "Yuma_Simulation.ipynb",
   "parameters": {},
   "start_time": "2025-01-23T16:32:40.549128",
   "version": "2.6.0"
  },
  "widgets": {
   "application/vnd.jupyter.widget-state+json": {
    "state": {
     "6040366ba07f455c988ae3c426ce626b": {
      "model_module": "@jupyter-widgets/controls",
      "model_module_version": "2.0.0",
      "model_name": "ProgressStyleModel",
      "state": {
       "_model_module": "@jupyter-widgets/controls",
       "_model_module_version": "2.0.0",
       "_model_name": "ProgressStyleModel",
       "_view_count": null,
       "_view_module": "@jupyter-widgets/base",
       "_view_module_version": "2.0.0",
       "_view_name": "StyleView",
       "bar_color": null,
       "description_width": ""
      }
     },
     "64bb64856cf14543bff2e7d9b9e8a126": {
      "model_module": "@jupyter-widgets/controls",
      "model_module_version": "2.0.0",
      "model_name": "IntProgressModel",
      "state": {
       "_dom_classes": [],
       "_model_module": "@jupyter-widgets/controls",
       "_model_module_version": "2.0.0",
       "_model_name": "IntProgressModel",
       "_view_count": null,
       "_view_module": "@jupyter-widgets/controls",
       "_view_module_version": "2.0.0",
       "_view_name": "ProgressView",
       "bar_style": "",
       "description": "",
       "description_allow_html": false,
       "layout": "IPY_MODEL_afa642af8237418895687b13a535f01c",
       "max": 1250,
       "min": 0,
       "orientation": "horizontal",
       "style": "IPY_MODEL_6040366ba07f455c988ae3c426ce626b",
       "tabbable": null,
       "tooltip": null,
       "value": 1250
      }
     },
     "afa642af8237418895687b13a535f01c": {
      "model_module": "@jupyter-widgets/base",
      "model_module_version": "2.0.0",
      "model_name": "LayoutModel",
      "state": {
       "_model_module": "@jupyter-widgets/base",
       "_model_module_version": "2.0.0",
       "_model_name": "LayoutModel",
       "_view_count": null,
       "_view_module": "@jupyter-widgets/base",
       "_view_module_version": "2.0.0",
       "_view_name": "LayoutView",
       "align_content": null,
       "align_items": null,
       "align_self": null,
       "border_bottom": null,
       "border_left": null,
       "border_right": null,
       "border_top": null,
       "bottom": null,
       "display": null,
       "flex": null,
       "flex_flow": null,
       "grid_area": null,
       "grid_auto_columns": null,
       "grid_auto_flow": null,
       "grid_auto_rows": null,
       "grid_column": null,
       "grid_gap": null,
       "grid_row": null,
       "grid_template_areas": null,
       "grid_template_columns": null,
       "grid_template_rows": null,
       "height": null,
       "justify_content": null,
       "justify_items": null,
       "left": null,
       "margin": null,
       "max_height": null,
       "max_width": null,
       "min_height": null,
       "min_width": null,
       "object_fit": null,
       "object_position": null,
       "order": null,
       "overflow": null,
       "padding": null,
       "right": null,
       "top": null,
       "visibility": null,
       "width": null
      }
     }
    },
    "version_major": 2,
    "version_minor": 0
   }
  }
 },
 "nbformat": 4,
 "nbformat_minor": 5
}