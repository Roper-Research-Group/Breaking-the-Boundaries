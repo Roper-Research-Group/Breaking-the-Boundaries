{
 "cells": [
  {
   "cell_type": "code",
   "id": "initial_id",
   "metadata": {
    "collapsed": true,
    "ExecuteTime": {
     "end_time": "2025-01-23T16:09:43.517754Z",
     "start_time": "2025-01-23T16:09:43.100186Z"
    }
   },
   "source": [
    "import papermill as pm\n",
    "import subprocess\n"
   ],
   "outputs": [],
   "execution_count": 1
  },
  {
   "metadata": {
    "ExecuteTime": {
     "end_time": "2025-01-23T16:33:41.612259Z",
     "start_time": "2025-01-23T16:09:43.518680Z"
    }
   },
   "cell_type": "code",
   "source": [
    "\n",
    "# Paths to your Jupyter Notebooks\n",
    "optimization_notebook = \"Yuma_Optimizer.ipynb\"\n",
    "simulation_notebook = \"Yuma_Simulation.ipynb\"\n",
    "\n",
    "# Number of iterations\n",
    "iterations = 20 \n",
    "\n",
    "for i in range(iterations):\n",
    "    print(f\"Running iteration {i + 1}...\")\n",
    "\n",
    "    # Run the optimization notebook in a separate process\n",
    "    try:\n",
    "        subprocess.run([\n",
    "            \"papermill\", optimization_notebook, optimization_notebook\n",
    "        ], check=True)\n",
    "    except subprocess.CalledProcessError as e:\n",
    "        print(f\"Error occurred while executing {optimization_notebook}: {e}\")\n",
    "        break\n",
    "\n",
    "    print('Optimization notebook run completed.')\n",
    "\n",
    "    # Run the simulation notebook in a separate process\n",
    "    try:\n",
    "        subprocess.run([\n",
    "            \"papermill\", simulation_notebook, simulation_notebook\n",
    "        ], check=True)\n",
    "    except subprocess.CalledProcessError as e:\n",
    "        print(f\"Error occurred while executing {simulation_notebook}: {e}\")\n",
    "        break\n",
    "\n",
    "print(\"Completed all iterations.\")\n"
   ],
   "id": "e4ed2d9500a30f2e",
   "outputs": [
    {
     "name": "stdout",
     "output_type": "stream",
     "text": [
      "Running iteration 1...\n",
      "Optimization notebook run completed.\n",
      "Running iteration 2...\n",
      "Optimization notebook run completed.\n",
      "Running iteration 3...\n",
      "Optimization notebook run completed.\n",
      "Running iteration 4...\n",
      "Optimization notebook run completed.\n",
      "Running iteration 5...\n",
      "Optimization notebook run completed.\n",
      "Running iteration 6...\n",
      "Optimization notebook run completed.\n",
      "Running iteration 7...\n",
      "Optimization notebook run completed.\n",
      "Running iteration 8...\n",
      "Optimization notebook run completed.\n",
      "Running iteration 9...\n",
      "Optimization notebook run completed.\n",
      "Running iteration 10...\n",
      "Optimization notebook run completed.\n",
      "Running iteration 11...\n",
      "Optimization notebook run completed.\n",
      "Running iteration 12...\n",
      "Optimization notebook run completed.\n",
      "Running iteration 13...\n",
      "Optimization notebook run completed.\n",
      "Running iteration 14...\n",
      "Optimization notebook run completed.\n",
      "Running iteration 15...\n",
      "Optimization notebook run completed.\n",
      "Running iteration 16...\n",
      "Optimization notebook run completed.\n",
      "Running iteration 17...\n",
      "Optimization notebook run completed.\n",
      "Running iteration 18...\n",
      "Optimization notebook run completed.\n",
      "Running iteration 19...\n",
      "Optimization notebook run completed.\n",
      "Running iteration 20...\n",
      "Optimization notebook run completed.\n",
      "Completed all iterations.\n"
     ]
    }
   ],
   "execution_count": 2
  },
  {
   "metadata": {
    "ExecuteTime": {
     "end_time": "2025-01-23T16:33:41.628063Z",
     "start_time": "2025-01-23T16:33:41.615028Z"
    }
   },
   "cell_type": "code",
   "source": "# ",
   "id": "6be348cc0a869f2f",
   "outputs": [],
   "execution_count": 3
  }
 ],
 "metadata": {
  "kernelspec": {
   "display_name": "Python 3",
   "language": "python",
   "name": "python3"
  },
  "language_info": {
   "codemirror_mode": {
    "name": "ipython",
    "version": 2
   },
   "file_extension": ".py",
   "mimetype": "text/x-python",
   "name": "python",
   "nbconvert_exporter": "python",
   "pygments_lexer": "ipython2",
   "version": "2.7.6"
  }
 },
 "nbformat": 4,
 "nbformat_minor": 5
}
