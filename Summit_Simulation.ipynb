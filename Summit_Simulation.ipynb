{
 "cells": [
  {
   "cell_type": "code",
   "id": "initial_id",
   "metadata": {
    "collapsed": true,
    "ExecuteTime": {
     "end_time": "2024-08-22T16:41:51.917868Z",
     "start_time": "2024-08-22T16:41:40.536424Z"
    }
   },
   "source": [
    "##Importing all needed libraries\n",
    "try:\n",
    "    # Summit-related imports\n",
    "    import summit\n",
    "    from summit import Runner\n",
    "    from summit.benchmarks import SnarBenchmark\n",
    "    from summit.domain import *\n",
    "    from summit.utils.dataset import DataSet\n",
    "\n",
    "    # External libraries\n",
    "    import numpy as np\n",
    "    import pandas as pd\n",
    "\n",
    "    # File and path handling\n",
    "    import pathlib\n",
    "    import os\n",
    "    import re\n",
    "\n",
    "except ModuleNotFoundError as e:\n",
    "    print(f\"Error: {e}. Please install the required libraries before running the program.\")"
   ],
   "outputs": [],
   "execution_count": 1
  },
  {
   "metadata": {
    "ExecuteTime": {
     "end_time": "2024-08-22T17:21:34.656930Z",
     "start_time": "2024-08-22T17:21:34.495775Z"
    }
   },
   "cell_type": "code",
   "source": [
    "# Read the CSV file and skip the second row\n",
    "file_path = \"D:\\PyCharm_Projects\\Digital_Twin_Optimization\\Summit_Dataset\\Data\\ExpandDigiTwin_Data.csv\"\n",
    "data_df = DataSet.read_csv(file_path)\n",
    "\n",
    "# Create SnarBenchmark instance\n",
    "exp = SnarBenchmark()\n",
    "\n",
    "# Initialize an empty list to store results\n",
    "results_list = []\n",
    "\n",
    "# Iterate over each row in the DataFrame\n",
    "for index, row in data_df.iterrows():\n",
    "    # Extract condition values from the DataFrame row\n",
    "    values = {\n",
    "        ('tau', 'DATA'): row['tau'],\n",
    "        ('equiv_pldn', 'DATA'): row['equiv_pldn'],\n",
    "        ('conc_dfnb', 'DATA'): row['conc_dfnb'],\n",
    "        ('temperature', 'DATA'): row['temperature']\n",
    "    }\n",
    "    columns = [v.name for v in exp.domain.variables]\n",
    "    conditions = DataSet([values], columns=columns)\n",
    "    \n",
    "    # Run the conditions and append the results to the list\n",
    "    exp.reset()\n",
    "    results = exp.run_experiments(conditions)\n",
    "    results_list.append(results)\n",
    "\n",
    "# Concatenate results from all runs\n",
    "final_results = pd.concat(results_list, ignore_index=True)\n",
    "\n",
    "# Round the results\n",
    "final_results = final_results.round(2)\n",
    "\n",
    "# Update 'sty' and 'e_factor' columns in the original DataFrame\n",
    "data_df['sty'] = final_results['sty']\n",
    "data_df['e_factor'] = final_results['e_factor']\n",
    "\n",
    "# Save the updated DataFrame to the same CSV file\n",
    "data_df.to_csv(file_path)\n",
    "\n",
    "print(\"Updated CSV file saved.\")"
   ],
   "id": "c39b18dd5bccc0b9",
   "outputs": [
    {
     "name": "stdout",
     "output_type": "stream",
     "text": [
      "Updated CSV file saved.\n"
     ]
    }
   ],
   "execution_count": 3
  },
  {
   "metadata": {
    "ExecuteTime": {
     "end_time": "2024-08-22T17:21:35.395647Z",
     "start_time": "2024-08-22T17:21:35.364186Z"
    }
   },
   "cell_type": "code",
   "source": "print(data_df)\n",
   "id": "d822fa0cdea73c3d",
   "outputs": [
    {
     "name": "stdout",
     "output_type": "stream",
     "text": [
      "NAME     tau equiv_pldn conc_dfnb temperature                 strategy  \\\n",
      "TYPE    DATA       DATA      DATA        DATA                 METADATA   \n",
      "0     1.4375        4.8      0.13        34.5                      LHS   \n",
      "1     1.3625        2.8      0.15        52.5                      LHS   \n",
      "2     1.5875        2.0      0.19        70.5                      LHS   \n",
      "3     1.8125        4.4      0.17        97.5                      LHS   \n",
      "4     1.7375        2.4      0.23        61.5                      LHS   \n",
      "5     1.9625        4.0      0.25        79.5                      LHS   \n",
      "6     1.8875        1.6      0.21       115.5                      LHS   \n",
      "7     1.5125        3.2      0.29        43.5                      LHS   \n",
      "8     1.2875        3.6      0.27       106.5                      LHS   \n",
      "9     1.6625        1.2      0.11        88.5                      LHS   \n",
      "10       2.0        1.0       0.5   43.823077  Single-objective BayOpt   \n",
      "\n",
      "NAME          sty   e_factor  \n",
      "TYPE         DATA       DATA  \n",
      "0     1038.728684  33.213642  \n",
      "1     1262.161033  28.296044  \n",
      "2     1345.760342  22.652898  \n",
      "3      596.835787  46.932914  \n",
      "4     1462.862297  19.297674  \n",
      "5      955.509866  27.571852  \n",
      "6     1063.434107  24.145299  \n",
      "7     2165.730371  15.392735  \n",
      "8     1235.042217  32.690411  \n",
      "9      725.000756  39.509392  \n",
      "10    2606.044229   9.305576  \n"
     ]
    }
   ],
   "execution_count": 4
  },
  {
   "metadata": {},
   "cell_type": "code",
   "source": [
    "df = data_df\n",
    "# Calculate the new column based on the equation\n",
    "df['computed_value'] = df.iloc[:, -2] / 1e4 - df.iloc[:, -1] / 100\n",
    "\n",
    "# Sort the DataFrame by the computed column in descending order\n",
    "df_sorted = df.sort_values(by='computed_value', ascending=False)\n",
    "\n",
    "# Display the sorted DataFrame\n",
    "pd.set_option('display.max_rows', None)\n",
    "print(df_sorted)"
   ],
   "id": "ea7a085c6ad7622b",
   "outputs": [],
   "execution_count": null
  },
  {
   "metadata": {},
   "cell_type": "code",
   "source": "",
   "id": "a32aeba2e2dae730",
   "outputs": [],
   "execution_count": null
  }
 ],
 "metadata": {
  "kernelspec": {
   "display_name": "Python 3",
   "language": "python",
   "name": "python3"
  },
  "language_info": {
   "codemirror_mode": {
    "name": "ipython",
    "version": 2
   },
   "file_extension": ".py",
   "mimetype": "text/x-python",
   "name": "python",
   "nbconvert_exporter": "python",
   "pygments_lexer": "ipython2",
   "version": "2.7.6"
  }
 },
 "nbformat": 4,
 "nbformat_minor": 5
}
